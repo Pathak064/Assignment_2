{
 "cells": [
  {
   "cell_type": "markdown",
   "metadata": {},
   "source": [
    "# 1.1\n",
    "Write a Python Program to implement your own myreduce() function which works exactly like\n",
    "Python's built-in function reduce()"
   ]
  },
  {
   "cell_type": "code",
   "execution_count": 1,
   "metadata": {},
   "outputs": [],
   "source": [
    "def myreduce(a,b):\n",
    "    val=b[0]\n",
    "    for i in b[1:]:\n",
    "        val = a(val,i)\n",
    "        \n",
    "    return val\n",
    "        "
   ]
  },
  {
   "cell_type": "markdown",
   "metadata": {},
   "source": [
    "# 1.2\n",
    "Write a Python program to implement your own myfilter() function which works exactly like\n",
    "Python's built-in function filter()"
   ]
  },
  {
   "cell_type": "code",
   "execution_count": 2,
   "metadata": {},
   "outputs": [],
   "source": [
    "def myfilter (func, seq):\n",
    "    val_filt=[]\n",
    "    for i in seq:\n",
    "        if func(i):\n",
    "            val_filt.append(i)\n",
    "    return val_filt\n"
   ]
  },
  {
   "cell_type": "markdown",
   "metadata": {},
   "source": [
    "# 2.\n",
    "Implement List comprehensions to produce the following lists.\n",
    "Write List comprehensions to produce the following Lists\n",
    "['A', 'C', 'A', 'D', 'G', 'I', ’L’, ‘ D’]\n",
    "\n",
    "['x', 'xx', 'xxx', 'xxxx', 'y', 'yy', 'yyy', 'yyyy', 'z', 'zz', 'zzz', 'zzzz']\n",
    "\n",
    "['x', 'y', 'z', 'xx', 'yy', 'zz', 'xx', 'yy', 'zz', 'xxxx', 'yyyy', 'zzzz']\n",
    "\n",
    "[[2], [3], [4], [3], [4], [5], [4], [5], [6]]\n",
    "\n",
    "[[2, 3, 4, 5], [3, 4, 5, 6], [4, 5, 6, 7], [5, 6, 7, 8]]\n",
    "\n",
    "[(1, 1), (2, 1), (3, 1), (1, 2), (2, 2), (3, 2), (1, 3), (2, 3), (3, 3)]"
   ]
  },
  {
   "cell_type": "code",
   "execution_count": 7,
   "metadata": {},
   "outputs": [
    {
     "name": "stdout",
     "output_type": "stream",
     "text": [
      "ACADGILD => ['A', 'C', 'A', 'D', 'G', 'I', 'L', 'D']\n",
      "['x','y','z'] => ['x', 'xx', 'xxx', 'xxxx', 'y', 'yy', 'yyy', 'yyyy', 'z', 'zz', 'zzz', 'zzzz']\n",
      "['x','y','z'] => ['x', 'y', 'z', 'xx', 'yy', 'zz', 'xxx', 'yyy', 'zzz', 'xxxx', 'yyyy', 'zzzz']\n",
      "[2,3,4] =>[[2], [3], [4], [3], [4], [5], [4], [5], [6]]\n",
      "[2,3,4,5] =>[[2, 3, 4, 5], [3, 4, 5, 6], [4, 5, 6, 7], [5, 6, 7, 8]]\n",
      "[1,2,3] =>[(1, 1), (1, 2), (1, 3), (2, 1), (2, 2), (2, 3), (3, 1), (3, 2), (3, 3)]\n"
     ]
    }
   ],
   "source": [
    "\n",
    "word_list = \"ACADGILD\"\n",
    "alphabet_list = [ alphabet for alphabet in word_list ]\n",
    "print (\"ACADGILD => \" + str(alphabet_list))\n",
    "\n",
    "\n",
    "variable_list = ['x','y','z']\n",
    "result = [ i*num for i in variable_list for num in range(1,5)  ]\n",
    "print(\"['x','y','z'] => \"  +   str(result))\n",
    "\n",
    "\n",
    "variable_list = ['x','y','z']\n",
    "result = [ i*num for num in range(1,5) for i in variable_list  ]\n",
    "print(\"['x','y','z'] => \"  +   str(result))\n",
    "\n",
    "#########\n",
    "num_list = [2,3,4]\n",
    "result = [ [i+num] for i in num_list for num in range(0,3)]\n",
    "print(\"[2,3,4] =>\"  +  str(result))\n",
    "\n",
    "#########\n",
    "num_list = [2,3,4,5]\n",
    "result = [ [i+num for i in num_list] for num in range(0,4)  ]\n",
    "print(\"[2,3,4,5] =>\"  +  str(result))\n",
    "\n",
    "#########\n",
    "num_list=[1,2,3]\n",
    "result = [ (i,j) for i in num_list for j in num_list]\n",
    "print(\"[1,2,3] =>\"  +  str(result))"
   ]
  },
  {
   "cell_type": "markdown",
   "metadata": {},
   "source": [
    "# 3.\n",
    "Implement a function longestWord() that takes a list of words and returns the longest one."
   ]
  },
  {
   "cell_type": "code",
   "execution_count": 16,
   "metadata": {},
   "outputs": [
    {
     "name": "stdout",
     "output_type": "stream",
     "text": [
      "ashishpathak\n"
     ]
    }
   ],
   "source": [
    "def longestWord(words):  \n",
    "    word_len = []  \n",
    "    for n in words:  \n",
    "        word_len.append((len(n), n))  \n",
    "    word_len.sort()  \n",
    "    return word_len[-1][1]  \n",
    "\n",
    "print(longestWord([\"Ashish\", \"pathak\", \"ashishpathak\"])) \n",
    "\n"
   ]
  },
  {
   "cell_type": "markdown",
   "metadata": {},
   "source": [
    "# Task 2:"
   ]
  },
  {
   "cell_type": "markdown",
   "metadata": {},
   "source": [
    "# 1.1\n",
    "Write a Python Program(with class concepts) to find the area of the triangle using the below\n",
    "formula.\n",
    "\n",
    "area = (s*(s-a)*(s-b)*(s-c)) ** 0.5\n",
    "\n",
    "Function to take the length of the sides of triangle from user should be defined in the parent\n",
    "class and function to calculate the area should be defined in subclass."
   ]
  },
  {
   "cell_type": "code",
   "execution_count": 20,
   "metadata": {},
   "outputs": [
    {
     "name": "stdout",
     "output_type": "stream",
     "text": [
      "Enter the value of a = 2\n",
      "Enter the value of b = 2\n",
      "Enter the value of c = 2\n",
      "area : 1.7320508075688772\n"
     ]
    }
   ],
   "source": [
    "    class Triangle:\n",
    "     \n",
    "        def __init__(self,a,b,c):\n",
    "            self.a = float(a)\n",
    "            self.b = float(b)\n",
    "            self.c = float(c)\n",
    "     \n",
    "        def area(self):\n",
    "            s=(self.a + self.b + self.c)/2\n",
    "            return((s*(s-self.a)*(s-self.b)*(s-self.c))*0.5)\n",
    "     \n",
    "    a=input(\"Enter the value of a = \")\n",
    "    b=input(\"Enter the value of b = \")\n",
    "    c=input(\"Enter the value of c = \")\n",
    "    d = Triangle(a, b, c)\n",
    "    print(\"area : {}\".format(d.area()))"
   ]
  },
  {
   "cell_type": "markdown",
   "metadata": {},
   "source": [
    "# 1.2\n",
    "Write a function filter_long_words() that takes a list of words and an integer n and returns the list\n",
    "of words that are longer than n."
   ]
  },
  {
   "cell_type": "code",
   "execution_count": 23,
   "metadata": {},
   "outputs": [
    {
     "name": "stdout",
     "output_type": "stream",
     "text": [
      "Enter words:wd\n",
      "Enter Min Length:3\n",
      "Words with at least min length: []\n"
     ]
    }
   ],
   "source": [
    "def filter_long_words(a,b):\n",
    "    words=[]\n",
    "    for j in a:\n",
    "        if(len(j)>=b):\n",
    "            words.append(j)\n",
    "    return words\n",
    "\n",
    "n=input(\"Enter words:\")\n",
    "n1=n.split(\",\")\n",
    "n2=input(\"Enter Min Length:\")\n",
    "long=filter_long_words(n1,int(n2))\n",
    "\n",
    "print(\"Words with at least min length:\",long)\n",
    "\n"
   ]
  },
  {
   "cell_type": "markdown",
   "metadata": {},
   "source": [
    "# 2.1\n",
    "Write a Python program using function concept that maps list of words into a list of integers\n",
    "representing the lengths of the corresponding words .\n",
    "\n",
    "Hint: If a list [ ab,cde,erty] is passed on to the python function output should come as [2,3,4]\n",
    "    \n",
    "Here 2,3 and 4 are the lengths of the words in the list."
   ]
  },
  {
   "cell_type": "code",
   "execution_count": 26,
   "metadata": {},
   "outputs": [
    {
     "name": "stdout",
     "output_type": "stream",
     "text": [
      "Input : Please enter Words : fghh, fghjk, dfghj\n",
      "Output: Length of Words are : [4, 5, 5]\n"
     ]
    }
   ],
   "source": [
    "def maps_list_of_words(lis):\n",
    "    \n",
    "    return list(map(len, lis))\n",
    "\n",
    "word_List=list(input(\"Input : Please enter Words : \").split(\",\"))\n",
    "\n",
    "lis=[x.strip() for x in word_List]\n",
    "\n",
    "Words_lengths=maps_list_of_words(lis)\n",
    "\n",
    "print(\"Output: Length of Words are :\",Words_lengths )"
   ]
  },
  {
   "cell_type": "markdown",
   "metadata": {},
   "source": [
    "# 2.2\n",
    "\n",
    "Write a Python function which takes a character (i.e. a string of length 1) and returns True if it is\n",
    "a vowel, False otherwise.\n",
    "\n",
    "NOTE: The solution shared through Github should contain the source code used and\n",
    "the screenshot of the output."
   ]
  },
  {
   "cell_type": "code",
   "execution_count": 28,
   "metadata": {},
   "outputs": [
    {
     "name": "stdout",
     "output_type": "stream",
     "text": [
      "Enter character to check that it is Vowel or not\n",
      "Input Value: i\n",
      "Output Value: True\n"
     ]
    }
   ],
   "source": [
    "\n",
    "def vowel_checker(inputChar):\n",
    "\n",
    "    return_value=''\n",
    "    if(len(inputChar)==1):\n",
    "        vowel_list=['a','e','i','o','u']\n",
    "        if (inputChar.lower() in vowel_list):\n",
    "            return_value= True\n",
    "        else:\n",
    "            return_value= False\n",
    "    else:\n",
    "        return_value=\"Please enter single character only!\"        \n",
    "    return return_value\n",
    "\n",
    "\n",
    "print(\"Enter character to check that it is Vowel or not\")\n",
    "input_value = input(\"Input Value: \")\n",
    "\n",
    "output_value=vowel_checker(input_value) \n",
    "\n",
    "print(\"Output Value:\",output_value)\n",
    "\n"
   ]
  },
  {
   "cell_type": "code",
   "execution_count": null,
   "metadata": {},
   "outputs": [],
   "source": []
  }
 ],
 "metadata": {
  "kernelspec": {
   "display_name": "Python 3",
   "language": "python",
   "name": "python3"
  },
  "language_info": {
   "codemirror_mode": {
    "name": "ipython",
    "version": 3
   },
   "file_extension": ".py",
   "mimetype": "text/x-python",
   "name": "python",
   "nbconvert_exporter": "python",
   "pygments_lexer": "ipython3",
   "version": "3.7.4"
  }
 },
 "nbformat": 4,
 "nbformat_minor": 2
}
